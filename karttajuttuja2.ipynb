{
 "cells": [
  {
   "cell_type": "code",
   "execution_count": 107,
   "metadata": {},
   "outputs": [],
   "source": [
    "import shutil\n",
    "import urllib.parse\n",
    "import urllib.request\n",
    "from pathlib import Path\n",
    "\n",
    "import fiona\n",
    "import io\n",
    "import json\n",
    "import requests\n",
    "import zipfile\n",
    "import geopandas as gpd\n",
    "import shapely.geometry as geom\n",
    "import shapely.wkt as wkt\n",
    "\n",
    "from xml.etree import ElementTree as ET"
   ]
  },
  {
   "cell_type": "code",
   "execution_count": null,
   "metadata": {},
   "outputs": [],
   "source": [
    "\n",
    "z = zipfile.ZipFile(io.BytesIO(r.content))\n",
    "z.extractall(dir)\n",
    "\n",
    "# TODO: check that get was successful"
   ]
  },
  {
   "cell_type": "code",
   "execution_count": null,
   "metadata": {},
   "outputs": [],
   "source": [
    "\n",
    "if \"-\" in realestateid:\n",
    "    parts = realestateid.split(\"-\")\n",
    "    first_parts = 3\n",
    "    last_parts = 4\n",
    "    while len(parts[0]) != first_parts:\n",
    "        parts[0] = \"0\" + parts[0]\n",
    "    while len(parts[1]) != first_parts:\n",
    "        parts[1] = \"0\" + parts[1]\n",
    "    while len(parts[2]) != last_parts:\n",
    "        parts[2] = \"0\" + parts[2]\n",
    "    while len(parts[3]) != last_parts:\n",
    "        parts[3] = \"0\" + parts[3]\n",
    "    realestateid = \"\".join(parts)"
   ]
  },
  {
   "cell_type": "code",
   "execution_count": null,
   "metadata": {},
   "outputs": [],
   "source": []
  },
  {
   "cell_type": "code",
   "execution_count": 8,
   "metadata": {},
   "outputs": [
    {
     "name": "stdout",
     "output_type": "stream",
     "text": [
      "55b86f92-490b-475b-856e-6f7e5dc3a275\n"
     ]
    }
   ],
   "source": [
    "with Path.open(f\"{path_to_api_key}\", \"r\") as f:\n",
    "    api_key = f.read()\n",
    "print(api_key)"
   ]
  },
  {
   "cell_type": "code",
   "execution_count": 204,
   "metadata": {},
   "outputs": [],
   "source": [
    "r = requests.get(f\"https://avoin-paikkatieto.maanmittauslaitos.fi/kiinteisto-avoin/simple-features/v3/collections/PalstanSijaintitiedot/items?kiinteistotunnus={realestateid}\",\n",
    "                 params={\"api-key\": api_key, \"crs\": \"http://www.opengis.net/def/crs/EPSG/0/3067\"})\n",
    "\n",
    "estate_data = json.loads(r.content)\n",
    "features = estate_data[\"features\"][0]\n",
    "coordinates = estate_data[\"features\"][0][\"geometry\"][\"coordinates\"]"
   ]
  },
  {
   "cell_type": "code",
   "execution_count": 87,
   "metadata": {},
   "outputs": [],
   "source": [
    "def coord_to_polygon(coords: list[float]) -> str:\n",
    "    polygon = \"POLYGON ((\"\n",
    "    for pair in coords:\n",
    "        polygon = polygon + str(pair[0]) + \" \" + str(pair[1]) + \", \"\n",
    "\n",
    "    return polygon[:-2] + \"))\""
   ]
  },
  {
   "cell_type": "code",
   "execution_count": 88,
   "metadata": {},
   "outputs": [],
   "source": [
    "if len(coordinates) == 1:\n",
    "    geometry = coordinates[0]\n",
    "    polygon = coord_to_polygon(geometry)\n",
    "    req = requests.post(\"https://avoin.metsakeskus.fi/rest/mvrest/FRStandData/v1/ByPolygon\", data={\"wktPolygon\": polygon, \"stdVersion\": \"MV1.9\"})\n",
    "    xml = req.content\n",
    "    with Path.open(f\"{realestateid}/output.xml\", \"wb\") as file:\n",
    "        file.write(xml)\n",
    "else:\n",
    "    with Path.open(f\"{realestateid}/output.xml\", \"wb\") as file:\n",
    "        geometry = coordinates[0]\n",
    "        polygon = coord_to_polygon(geometry)\n",
    "        req = requests.post(\"https://avoin.metsakeskus.fi/rest/mvrest/FRStandData/v1/ByPolygon\", data={\"wktPolygon\": geometry, \"stdVersion\": \"MV1.9\"})\n",
    "        xml = req.content\n",
    "        file.write(b\"\\n\".join(xml.splitlines()[:-2]) + b\"\\n\")\n",
    "        for i in range(1, len(coordinates)-1):\n",
    "            geometry = coordinates[i]\n",
    "            polygon = coord_to_polygon(geometry)\n",
    "            req = requests.post(\"https://avoin.metsakeskus.fi/rest/mvrest/FRStandData/v1/ByPolygon\", data={\"wktPolygon\": geometry, \"stdVersion\": \"MV1.9\"})\n",
    "            xml = req.content\n",
    "            file.write(b\"\\n\".join(xml.splitlines()[2:-2]) + b\"\\n\")\n",
    "        geometry = coordinates[len(coordinates)-1]\n",
    "        polygon = coord_to_polygon(geometry)\n",
    "        req = requests.post(\"https://avoin.metsakeskus.fi/rest/mvrest/FRStandData/v1/ByPolygon\", data={\"wktPolygon\": geometry, \"stdVersion\": \"MV1.9\"})\n",
    "        xml = req.content\n",
    "        file.write(b\"\\n\".join(xml.splitlines()[2:]))"
   ]
  },
  {
   "cell_type": "code",
   "execution_count": null,
   "metadata": {},
   "outputs": [
    {
     "ename": "UnboundLocalError",
     "evalue": "cannot access local variable 'stand_id' where it is not associated with a value",
     "output_type": "error",
     "traceback": [
      "\u001b[1;31m---------------------------------------------------------------------------\u001b[0m",
      "\u001b[1;31mUnboundLocalError\u001b[0m                         Traceback (most recent call last)",
      "Cell \u001b[1;32mIn[488], line 48\u001b[0m\n\u001b[0;32m     45\u001b[0m         \u001b[38;5;28;01melse\u001b[39;00m:\n\u001b[0;32m     46\u001b[0m             polygon_from_xml(child)\n\u001b[1;32m---> 48\u001b[0m stand_id, coordinates \u001b[38;5;241m=\u001b[39m \u001b[43mpolygon_from_xml\u001b[49m\u001b[43m(\u001b[49m\u001b[43mroot\u001b[49m\u001b[43m)\u001b[49m\n\u001b[0;32m     49\u001b[0m orig_polygons[stand_id] \u001b[38;5;241m=\u001b[39m coordinates\n\u001b[0;32m     50\u001b[0m \u001b[38;5;28mprint\u001b[39m(orig_polygons)\n",
      "Cell \u001b[1;32mIn[488], line 46\u001b[0m, in \u001b[0;36mpolygon_from_xml\u001b[1;34m(root)\u001b[0m\n\u001b[0;32m     44\u001b[0m         \u001b[38;5;28;01mreturn\u001b[39;00m stand_id, coordinate_pairs\n\u001b[0;32m     45\u001b[0m \u001b[38;5;28;01melse\u001b[39;00m:\n\u001b[1;32m---> 46\u001b[0m     \u001b[43mpolygon_from_xml\u001b[49m\u001b[43m(\u001b[49m\u001b[43mchild\u001b[49m\u001b[43m)\u001b[49m\n",
      "Cell \u001b[1;32mIn[488], line 37\u001b[0m, in \u001b[0;36mpolygon_from_xml\u001b[1;34m(root)\u001b[0m\n\u001b[0;32m     35\u001b[0m \u001b[38;5;28;01mif\u001b[39;00m child\u001b[38;5;241m.\u001b[39mtag \u001b[38;5;241m==\u001b[39m \u001b[38;5;124m\"\u001b[39m\u001b[38;5;124m{\u001b[39m\u001b[38;5;124mhttp://standardit.tapio.fi/schemas/forestData/Stand}Stand\u001b[39m\u001b[38;5;124m\"\u001b[39m:\n\u001b[0;32m     36\u001b[0m     stand_id \u001b[38;5;241m=\u001b[39m child\u001b[38;5;241m.\u001b[39mattrib[\u001b[38;5;124m\"\u001b[39m\u001b[38;5;124mid\u001b[39m\u001b[38;5;124m\"\u001b[39m]\n\u001b[1;32m---> 37\u001b[0m     \u001b[43mpolygon_from_xml\u001b[49m\u001b[43m(\u001b[49m\u001b[43mchild\u001b[49m\u001b[43m)\u001b[49m\n\u001b[0;32m     38\u001b[0m \u001b[38;5;28;01melif\u001b[39;00m child\u001b[38;5;241m.\u001b[39mtag \u001b[38;5;241m==\u001b[39m \u001b[38;5;124m\"\u001b[39m\u001b[38;5;124m{\u001b[39m\u001b[38;5;124mhttp://www.opengis.net/gml}LinearRing\u001b[39m\u001b[38;5;124m\"\u001b[39m:\n\u001b[0;32m     39\u001b[0m     \u001b[38;5;28;01mfor\u001b[39;00m i \u001b[38;5;129;01min\u001b[39;00m child:\n",
      "Cell \u001b[1;32mIn[488], line 46\u001b[0m, in \u001b[0;36mpolygon_from_xml\u001b[1;34m(root)\u001b[0m\n\u001b[0;32m     44\u001b[0m         \u001b[38;5;28;01mreturn\u001b[39;00m stand_id, coordinate_pairs\n\u001b[0;32m     45\u001b[0m \u001b[38;5;28;01melse\u001b[39;00m:\n\u001b[1;32m---> 46\u001b[0m     \u001b[43mpolygon_from_xml\u001b[49m\u001b[43m(\u001b[49m\u001b[43mchild\u001b[49m\u001b[43m)\u001b[49m\n",
      "Cell \u001b[1;32mIn[488], line 46\u001b[0m, in \u001b[0;36mpolygon_from_xml\u001b[1;34m(root)\u001b[0m\n\u001b[0;32m     44\u001b[0m         \u001b[38;5;28;01mreturn\u001b[39;00m stand_id, coordinate_pairs\n\u001b[0;32m     45\u001b[0m \u001b[38;5;28;01melse\u001b[39;00m:\n\u001b[1;32m---> 46\u001b[0m     \u001b[43mpolygon_from_xml\u001b[49m\u001b[43m(\u001b[49m\u001b[43mchild\u001b[49m\u001b[43m)\u001b[49m\n",
      "    \u001b[1;31m[... skipping similar frames: polygon_from_xml at line 46 (2 times)]\u001b[0m\n",
      "Cell \u001b[1;32mIn[488], line 46\u001b[0m, in \u001b[0;36mpolygon_from_xml\u001b[1;34m(root)\u001b[0m\n\u001b[0;32m     44\u001b[0m         \u001b[38;5;28;01mreturn\u001b[39;00m stand_id, coordinate_pairs\n\u001b[0;32m     45\u001b[0m \u001b[38;5;28;01melse\u001b[39;00m:\n\u001b[1;32m---> 46\u001b[0m     \u001b[43mpolygon_from_xml\u001b[49m\u001b[43m(\u001b[49m\u001b[43mchild\u001b[49m\u001b[43m)\u001b[49m\n",
      "Cell \u001b[1;32mIn[488], line 44\u001b[0m, in \u001b[0;36mpolygon_from_xml\u001b[1;34m(root)\u001b[0m\n\u001b[0;32m     42\u001b[0m         \u001b[38;5;28;01mfor\u001b[39;00m coordinate \u001b[38;5;129;01min\u001b[39;00m coordinates:\n\u001b[0;32m     43\u001b[0m             coordinate_pairs\u001b[38;5;241m.\u001b[39mappend((\u001b[38;5;28mfloat\u001b[39m(coordinate\u001b[38;5;241m.\u001b[39msplit(\u001b[38;5;124m\"\u001b[39m\u001b[38;5;124m,\u001b[39m\u001b[38;5;124m\"\u001b[39m)[\u001b[38;5;241m0\u001b[39m]), \u001b[38;5;28mfloat\u001b[39m(coordinate\u001b[38;5;241m.\u001b[39msplit(\u001b[38;5;124m\"\u001b[39m\u001b[38;5;124m,\u001b[39m\u001b[38;5;124m\"\u001b[39m)[\u001b[38;5;241m1\u001b[39m])))\n\u001b[1;32m---> 44\u001b[0m         \u001b[38;5;28;01mreturn\u001b[39;00m \u001b[43mstand_id\u001b[49m, coordinate_pairs\n\u001b[0;32m     45\u001b[0m \u001b[38;5;28;01melse\u001b[39;00m:\n\u001b[0;32m     46\u001b[0m     polygon_from_xml(child)\n",
      "\u001b[1;31mUnboundLocalError\u001b[0m: cannot access local variable 'stand_id' where it is not associated with a value"
     ]
    }
   ],
   "source": [
    "def xml_to_dict(element: ET.Element):\n",
    "    # Create a dictionary to store the result\n",
    "    result = {}\n",
    "\n",
    "    # If the element has attributes, add them to the result\n",
    "    if element.attrib:\n",
    "        result.update(('@' + k, v) for k, v in element.attrib.items())\n",
    "\n",
    "    # If the element has children, recursively process them\n",
    "    if element:\n",
    "        # Group children by tag name\n",
    "        for child in element:\n",
    "            child_dict = xml_to_dict(child)\n",
    "            # If multiple children with the same tag, put them in a list\n",
    "            if child.tag in result:\n",
    "                if isinstance(result[child.tag], list):\n",
    "                    result[child.tag].append(child_dict)\n",
    "                else:\n",
    "                    result[child.tag] = [result[child.tag], child_dict]\n",
    "            else:\n",
    "                result[child.tag] = child_dict\n",
    "    # If the element has text, add it to the result (strip extra whitespace)\n",
    "    elif element.text:\n",
    "        result = element.text.strip()\n",
    "    return result\n",
    "\n",
    "tree = ET.parse(f\"{realestateid}/output.xml\")\n",
    "root = tree.getroot()\n",
    "\n",
    "orig_polygons = {}\n",
    "\n",
    "def polygon_from_xml(root: ET.ElementTree):\n",
    "    coordinate_pairs = []\n",
    "    for child in root:\n",
    "        if child.tag == \"{http://www.opengis.net/gml}LinearRing\":\n",
    "            for i in child:\n",
    "                coordinates = i.text.split(\" \")\n",
    "                coordinate_pairs = []\n",
    "                for coordinate in coordinates:\n",
    "                    coordinate_pairs.append((float(coordinate.split(\",\")[0]), float(coordinate.split(\",\")[1])))\n",
    "        else:\n",
    "            polygon_from_xml(child)\n",
    "    return coordinate_pairs\n",
    "\n",
    "def polygon_from_xml(root: ET.ElementTree):\n",
    "    for child in root:\n",
    "        if child.tag == \"{http://standardit.tapio.fi/schemas/forestData/Stand}Stand\":\n",
    "            stand_id = child.attrib[\"id\"]\n",
    "            polygon_from_xml(child)\n",
    "        elif child.tag == \"{http://www.opengis.net/gml}LinearRing\":\n",
    "            for i in child:\n",
    "                coordinates = i.text.split(\" \")\n",
    "                coordinate_pairs = []\n",
    "                for coordinate in coordinates:\n",
    "                    coordinate_pairs.append((float(coordinate.split(\",\")[0]), float(coordinate.split(\",\")[1])))\n",
    "                return stand_id, coordinate_pairs\n",
    "        else:\n",
    "            polygon_from_xml(child)\n",
    "\n",
    "for child in root:\n",
    "    if child.tag == \"{http://standardit.tapio.fi/schemas/forestData/Stand}Stand\":\n",
    "        stand_id = child.attrib[\"id\"]\n",
    "        coordinates = polygon_from_xml(child)\n",
    "    print(stand_id, coordinates)\n",
    "\n",
    "stand_id, coordinates = polygon_from_xml(root)\n",
    "orig_polygons[stand_id] = coordinates\n",
    "print(orig_polygons)\n",
    "\n",
    "\"\"\"for child in root:\n",
    "    if \"Stands\" in child.tag:\n",
    "        for stand in child:\n",
    "            stand_id = stand.attrib[\"id\"]\n",
    "            \"\"\"\n",
    "\n",
    "\"\"\"#tree.write(f\"{realestateid}/output_copy.xml\")\n",
    "data_dict = xml_to_dict(root)\n",
    "orig_polygons = {}\n",
    "stands = data_dict[\"{http://standardit.tapio.fi/schemas/forestData/Stand}Stands\"][\"{http://standardit.tapio.fi/schemas/forestData/Stand}Stand\"]\n",
    "for stand in stands:\n",
    "    stand_id = stand[\"@id\"]\n",
    "    stand_basic_data = stand[\"{http://standardit.tapio.fi/schemas/forestData/Stand}StandBasicData\"]\n",
    "    polygon_geometry = stand_basic_data[\"{http://standardit.tapio.fi/schemas/forestData/common/geometricDataTypes}PolygonGeometry\"]\n",
    "    polygon_property = polygon_geometry[\"{http://www.opengis.net/gml}polygonProperty\"]\n",
    "    polygon = polygon_property[\"{http://www.opengis.net/gml}Polygon\"]\n",
    "    exterior = polygon[\"{http://www.opengis.net/gml}exterior\"]\n",
    "    linear_ring = exterior[\"{http://www.opengis.net/gml}LinearRing\"]\n",
    "    coords = linear_ring[\"{http://www.opengis.net/gml}coordinates\"]\n",
    "    coordinates_list = coords.split(\" \")\n",
    "    coordinate_pairs = []\n",
    "    for pair in coordinates_list:\n",
    "        coordinate_pairs.append((float(pair.split(\",\")[0]), float(pair.split(\",\")[1])))\n",
    "    orig_polygons[stand_id] = coordinate_pairs\n",
    "print(orig_polygons)\"\"\""
   ]
  },
  {
   "cell_type": "code",
   "execution_count": 383,
   "metadata": {},
   "outputs": [
    {
     "data": {
      "image/png": "[encoded data removed]",
      "text/plain": [
       "<Figure size 640x480 with 1 Axes>"
      ]
     },
     "metadata": {},
     "output_type": "display_data"
    }
   ],
   "source": [
    "import matplotlib.pyplot as plt\n",
    "\n",
    "holding = geom.Polygon(coordinates[0]) # when multiple holdings, go through this in a loop?\n",
    "\n",
    "target = holding\n",
    "\n",
    "buffer_distance = 10  # Buffer distance (e.g., 1 unit)\n",
    "#buffer = target.buffer(buffer_distance)\n",
    "\n",
    "polygons = [(p, geom.Polygon(orig_polygons[p])) for p in orig_polygons]  # List of original polygons\n",
    "gdf_polygons = gpd.GeoDataFrame({\"stand_id\": [p[0] for p in polygons], \"geometry\": [p[1] for p in polygons]})\n",
    "\n",
    "# Create a GeoDataFrame for the target (holding) polygon\n",
    "gdf_target = gpd.GeoDataFrame(geometry=[holding])\n",
    "\n",
    "# Buffer the target polygon\n",
    "buffer = gdf_target.buffer(buffer_distance).iloc[0]  # Create buffer of target\n",
    "\n",
    "removed = []\n",
    "removed_ids = []\n",
    "# Remove any neighboring stands from the buffer\n",
    "for index, stand in gdf_polygons.iterrows():\n",
    "    if not buffer.contains(stand.geometry):\n",
    "        removed.append(stand)\n",
    "        removed_ids.append(stand.stand_id)\n",
    "        gdf_polygons = gdf_polygons.drop(index)\n",
    "\n",
    "#print(gdf_polygons)\n",
    "\n",
    "# Plot the remaining polygons and the buffer\n",
    "fig, ax = plt.subplots()\n",
    "\n",
    "gdf_target.plot(ax=ax, color='red', alpha=0.5)\n",
    "\n",
    "# Plot the original polygons (before removal) in green\n",
    "gdf_polygons.plot(ax=ax, color='green', alpha=0.5)\n",
    "\n",
    "# Plot the buffer area in blue\n",
    "gpd.GeoSeries([buffer]).plot(ax=ax, color='blue', alpha=0.3)\n",
    "\n",
    "for r in removed:\n",
    "    x, y = r.geometry.exterior.xy\n",
    "    ax.fill(x, y, alpha=0.5, fc='black')\n",
    "\n",
    "ax.set_title('Polygons with Buffer (Removed Neighbors)')\n",
    "plt.show()"
   ]
  },
  {
   "cell_type": "code",
   "execution_count": 449,
   "metadata": {},
   "outputs": [],
   "source": [
    "def dict_to_xml(tag, d):\n",
    "    \"\"\"Convert a dictionary back to an XML Element.\"\"\"\n",
    "    # Create an element with the given tag\n",
    "    elem = ET.Element(tag)\n",
    "    # Iterate through the dictionary to create XML elements\n",
    "    if isinstance(d, dict):\n",
    "        for key, value in d.items():\n",
    "            # Handle attributes (those keys start with '@')\n",
    "            if key.startswith('@'):\n",
    "                elem.set(key[1:], str(value))  # Remove '@' from key and set it as an attribute\n",
    "            elif isinstance(value, list):  # Handle list of elements (e.g., multiple 'person' tags)\n",
    "                for i in value:\n",
    "                    child = dict_to_xml(key, i)  # Recursively handle the list items\n",
    "                    elem.append(child)\n",
    "            else:  # Handle standard child elements\n",
    "                child = ET.Element(key)\n",
    "                child.text = str(value)\n",
    "                elem.append(child)\n",
    "    return elem\n",
    "\n",
    "def write_dict_to_xml(data_dict, file_name):\n",
    "    \"\"\"Convert the dictionary to XML and write it to a file.\"\"\"\n",
    "    root_tag = list(data_dict.keys())[0]  # Get the root tag name (assumes a single root)\n",
    "    root_elem = dict_to_xml(root.tag.split(\" \")[0], data_dict)\n",
    "\n",
    "    # Create an ElementTree object\n",
    "    tree = ET.ElementTree(root_elem)\n",
    "\n",
    "    # Write the XML to a file\n",
    "    tree.write(file_name, encoding=\"utf-8\", xml_declaration=True)\n",
    "\n",
    "data_dict_copy = data_dict.copy()\n",
    "for r in removed:\n",
    "    removable_id = r.stand_id\n",
    "    for s in stands:\n",
    "        if removable_id == s[\"@id\"]:\n",
    "            stands.remove(s)\n",
    "\n",
    "data_dict_copy[\"{http://standardit.tapio.fi/schemas/forestData/Stand}Stands\"][\"{http://standardit.tapio.fi/schemas/forestData/Stand}Stand\"] = stands\n",
    "write_dict_to_xml(data_dict_copy, f\"{realestateid}/output_copy.xml\")"
   ]
  },
  {
   "cell_type": "code",
   "execution_count": 405,
   "metadata": {},
   "outputs": [],
   "source": [
    "data_dict_copy = data_dict.copy()\n",
    "for r in removed:\n",
    "    removable_id = r.stand_id\n",
    "    for s in stands:\n",
    "        if removable_id == s[\"@id\"]:\n",
    "            stands.remove(s)\n",
    "\n",
    "data_dict_copy[\"{http://standardit.tapio.fi/schemas/forestData/Stand}Stands\"][\"{http://standardit.tapio.fi/schemas/forestData/Stand}Stand\"] = stands\n",
    "write_dict_to_xml(data_dict_copy, f\"{realestateid}/output_copy.xml\")"
   ]
  },
  {
   "cell_type": "code",
   "execution_count": 456,
   "metadata": {},
   "outputs": [
    {
     "data": {
      "text/plain": [
       "CompletedProcess(args='metsi ./14641900010016/output.xml ./14641900010016', returncode=1)"
      ]
     },
     "execution_count": 456,
     "metadata": {},
     "output_type": "execute_result"
    }
   ],
   "source": [
    "# Run the metsi simulator with the data in the XML file\n",
    "# Requires that the following are found in the current repository:\n",
    "#   1. data directory from metsi (that has information about prices etc.)\n",
    "#   2. a control.yaml file that has the parameters for the metsi simulation\n",
    "\n",
    "import subprocess\n",
    "\n",
    "subprocess.run(f\"metsi ./{realestateid}/output.xml ./{realestateid}\")"
   ]
  },
  {
   "cell_type": "code",
   "execution_count": 90,
   "metadata": {},
   "outputs": [
    {
     "name": "stdout",
     "output_type": "stream",
     "text": [
      "CompletedProcess(args='Rscript ./convert2opt.R ./14641900010016', returncode=0, stdout=b'', stderr=b'')\n"
     ]
    }
   ],
   "source": [
    "res = subprocess.run(f\"Rscript ./convert2opt.R ./{realestateid}\", capture_output=True)\n",
    "print(res)"
   ]
  },
  {
   "cell_type": "code",
   "execution_count": 91,
   "metadata": {},
   "outputs": [
    {
     "data": {
      "text/plain": [
       "CompletedProcess(args='python desdeo/utopia_stuff/write_trees_json.py -d ./14641900010016', returncode=0)"
      ]
     },
     "execution_count": 91,
     "metadata": {},
     "output_type": "execute_result"
    }
   ],
   "source": [
    "subprocess.run(f\"python desdeo/utopia_stuff/write_trees_json.py -d ./{realestateid}\")"
   ]
  },
  {
   "cell_type": "code",
   "execution_count": 92,
   "metadata": {},
   "outputs": [
    {
     "name": "stdout",
     "output_type": "stream",
     "text": [
      "CompletedProcess(args='python desdeo/utopia_stuff/write_carbon_json.py -d ./14641900010016', returncode=0, stdout=b'', stderr=b'')\n"
     ]
    }
   ],
   "source": [
    "res = subprocess.run(f\"python desdeo/utopia_stuff/write_carbon_json.py -d ./{realestateid}\", capture_output=True)\n",
    "print(res)"
   ]
  }
 ],
 "metadata": {
  "kernelspec": {
   "display_name": "utopia2",
   "language": "python",
   "name": "python3"
  },
  "language_info": {
   "codemirror_mode": {
    "name": "ipython",
    "version": 3
   },
   "file_extension": ".py",
   "mimetype": "text/x-python",
   "name": "python",
   "nbconvert_exporter": "python",
   "pygments_lexer": "ipython3",
   "version": "3.12.5"
  }
 },
 "nbformat": 4,
 "nbformat_minor": 2
}
